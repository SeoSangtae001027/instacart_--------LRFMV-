{
 "cells": [
  {
   "cell_type": "code",
   "execution_count": 1,
   "metadata": {},
   "outputs": [],
   "source": [
    "import pandas as pd\n",
    "from selenium import webdriver\n",
    "from selenium.webdriver.common.by import By\n",
    "import time\n",
    "\n",
    "df = pd.read_csv('../data/products.csv')\n",
    "\n",
    "browser = webdriver.Chrome()\n",
    "\n",
    "for index, row in df.iterrows():\n",
    "    product_name = row['product_name']\n",
    "    keyword = product_name.replace(' ', '+')  # Format keyword for URL\n",
    "\n",
    "    url = f'https://www.instacart.com/store/s?k={keyword}&search_id=fb116b0e-f753-4969-9ce4-ab8002dd4529&page_view_id=2ddcc876-f4f7-5fa2-bd46-df40fa43129b'\n",
    "    browser.get(url)\n",
    "\n",
    "    time.sleep(5)  \n",
    "\n",
    "    try:\n",
    "        search_result_button = browser.find_element(By.XPATH, '//*[@id=\"store-wrapper\"]/div/div/ul/div[1]/div[2]/div/div/div[2]/ul/li[1]/span/button')\n",
    "        search_result_button.click()\n",
    "\n",
    "        time.sleep(3)  \n",
    "\n",
    "        money_text = browser.find_element(By.XPATH, '//*[@id=\"item_details\"]/div[2]/div[2]/div[2]/div/div[1]/div[1]/div/div/span[1]/span').text\n",
    "\n",
    "        print(f\"Product: {product_name}, Money: {money_text}\")\n",
    "\n",
    "    except Exception as e:\n",
    "        print(f\"Error extracting text for {product_name}: {e}\")\n",
    "        money_text = None\n",
    "\n",
    "    df.loc[index, 'money'] = money_text\n",
    "\n",
    "    time.sleep(2)  \n",
    "\n",
    "df.to_csv('products_with_money.csv', index=False)\n",
    "\n",
    "browser.quit()\n"
   ]
  }
 ],
 "metadata": {
  "kernelspec": {
   "display_name": "Python 3",
   "language": "python",
   "name": "python3"
  },
  "language_info": {
   "codemirror_mode": {
    "name": "ipython",
    "version": 3
   },
   "file_extension": ".py",
   "mimetype": "text/x-python",
   "name": "python",
   "nbconvert_exporter": "python",
   "pygments_lexer": "ipython3",
   "version": "3.11.4"
  },
  "orig_nbformat": 4
 },
 "nbformat": 4,
 "nbformat_minor": 2
}
